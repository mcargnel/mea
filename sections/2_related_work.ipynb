{
 "cells": [
  {
   "cell_type": "markdown",
   "metadata": {},
   "source": [
    "# Related Work {#sec-related-work}"
   ]
  },
  {
   "cell_type": "markdown",
   "metadata": {},
   "source": [
    "This section overviews the current work in the topics of Panel Data Analysis and Classical Econometrics Methods and Machine Learning in Economics and Panel Data. We will also include the main sources for this study and the contributions that this document offers."
   ]
  },
  {
   "cell_type": "markdown",
   "metadata": {},
   "source": [
    "## Panel Data Analysis in Economics"
   ]
  },
  {
   "cell_type": "markdown",
   "metadata": {},
   "source": [
    "The analysis of panel data has been a widely used in empirical economics research and there are many papers and textbooks documenting the methodology. Classical approaches, as documented by [@Cameron_Trivedi_2005] and [@Wooldridge_2010], have primarily relied on linear fixed and random effects models. These methods have proven valuable for controlling unobserved heterogeneity and conducting causal inference. However, these traditional approaches often struggle with complex, non-linear relationships and high-dimensional interactions."
   ]
  },
  {
   "cell_type": "markdown",
   "metadata": {},
   "source": [
    "## Machine Learning in Economics"
   ]
  },
  {
   "cell_type": "markdown",
   "metadata": {},
   "source": [
    "Comprehensive overviews of classic machine learning algorithms—including regularization techniques, tree-based ensembles, and neural networks—are provided in [@ESL], while [@ISLP] offers a more introductory perspective. The foundational details of Classification and Regression Trees (CART) are discussed in [@CART], and the Random Forest algorithm was specifically introduced by [@breiman2001a].\n",
    " \n",
    "In recent years, [@mullainathan_2017] have explored the practical applications of machine learning in econometrics, particularly emphasizing prediction and cautioning against drawing causal conclusions about the effects of independent variables without careful consideration. [@varian_2014] highlights how big data and machine learning techniques, especially tree-based models, can complement traditional econometric methods, excelling in settings with non-linearities and complex interactions. Another good review of how machine learning is being integrated into economic analysis can be found in [@desai_2023], specifically showing how these algorithms are gaining popularity among the years.\n",
    " \n",
    "The integration of machine learning methods into economics has accelerated, with increasing attention on adapting these tools for econometric analysis. For example, [@athey_2015] provide a framework for using machine learning algorithms in causal inference; [@wager_2017] develop methods for estimating heterogeneous treatment effects using Random Forests; [@Grimmer_Messing_Westwood_2017] extend these approaches to ensemble methods; and [@athey_2018] introduce Generalized Random Forests for causal inference."
   ]
  },
  {
   "cell_type": "markdown",
   "metadata": {},
   "source": [
    "## Tree-Based Methods for Panel Data"
   ]
  },
  {
   "cell_type": "markdown",
   "metadata": {},
   "source": [
    "Several approaches have been proposed to extend random forests for longitudinal data analysis, [@hu_2023] presented a comprehensive review of extensions of this algorithm to longitudinal data. However, in this document out focus will be on combining general linear models with Random Forest (or other flexible model). Hoping to capture the non-linearities with a flexible algorithm.\n",
    "\n",
    "In particular, this document will be focused on MERF (Mixed Effects Random Forest) as refers to the approach where the mean behavior function $f$ in a mixed effects model is estimated using a Random Forest. This method was proposed by [@hajjem2014] and can be seen as a generalization of their earlier method, MERT (Mixed Effects Random Trees), which used a single CART tree to estimate $f$ [@hajjem2011]. Both MERT and MERF employ a variant of the EM algorithm [@laird_ware_1982], iterating between estimating the fixed effects (via tree/forest on a modified outcome), predicting random effects, and updating variance parameters. The method assumes that errors are conditionally independent given the random effects. A further generalization of MERF, which includes a stochastic process component, is called SMERF [@capitaine2021]."
   ]
  },
  {
   "cell_type": "markdown",
   "metadata": {},
   "source": [
    "## Interpretability in Machine Learning"
   ]
  },
  {
   "cell_type": "markdown",
   "metadata": {},
   "source": [
    "Interpretability in machine learning has been discussed by many authors in recent years. One of the most influential works is [@breiman_2001], which highlights the differences between the objectives of machine learning and statistics. Another important philosophical article is [@to_explain_or_to_predict], which clearly distinguishes between the goals of prediction and explanation.\n",
    " \n",
    "There are now several techniques that aim to combine the predictive power of complex, \"black box\" machine learning models with methods to interpret them. A comprehensive overview of these techniques can be found in [@Molnar_2023]. However, it is important to note that many of these methods focus on describing the behavior of the model itself, rather than uncovering the underlying data generating process (DGP) as is common in classical statistics. Despite this, recent research, such as [@Molnar_2023], has started to address these limitations. Further discussion of these and other challenges to adopt supervised machine learning in science can be found in [@freiesleben2024supervised]."
   ]
  },
  {
   "cell_type": "markdown",
   "metadata": {},
   "source": [
    "## Main Contributions"
   ]
  },
  {
   "cell_type": "markdown",
   "metadata": {},
   "source": [
    "Most of the works cited above provide a theoretical background for applying machine learning to various fields. However, to the best of the author's knowledge, there is not a comprehensive guide on how to apply these models specifically to economics. Therefore, the goal of this document is to fill the gap between theory and application by providing a comprehensive guide on how to use Random Forest in economic research."
   ]
  }
 ],
 "metadata": {
  "kernelspec": {
   "display_name": "venv_mea",
   "language": "python",
   "name": "python3"
  },
  "language_info": {
   "codemirror_mode": {
    "name": "ipython",
    "version": 3
   },
   "file_extension": ".py",
   "mimetype": "text/x-python",
   "name": "python",
   "nbconvert_exporter": "python",
   "pygments_lexer": "ipython3",
   "version": "3.13.2"
  }
 },
 "nbformat": 4,
 "nbformat_minor": 2
}
