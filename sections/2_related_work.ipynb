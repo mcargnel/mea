{
 "cells": [
  {
   "cell_type": "markdown",
   "metadata": {},
   "source": [
    "# Related Work"
   ]
  },
  {
   "cell_type": "markdown",
   "metadata": {},
   "source": [
    "This section overviews the current work in the topics of Panel Data Analysis and Classical Econometrics Methods and Machine Learning in Economics and Panel Data. We will also include the main sources for this study and the contributions that this document offers."
   ]
  },
  {
   "cell_type": "markdown",
   "metadata": {},
   "source": [
    "## Panel Data Analysis in Economics"
   ]
  },
  {
   "cell_type": "markdown",
   "metadata": {},
   "source": [
    "The analysis of panel data has been a widely used in empirical economics research. Classical approaches, as documented by [@Cameron_Trivedi_2005] and [@Wooldridge_2010], have primarily relied on linear fixed and random effects models. These methods have proven valuable for controlling unobserved heterogeneity and conducting causal inference. However, as noted by Hsiao (2014), these traditional approaches often struggle with complex, non-linear relationships and high-dimensional interactions."
   ]
  },
  {
   "cell_type": "markdown",
   "metadata": {},
   "source": [
    "## Machine Learning in Economics"
   ]
  },
  {
   "cell_type": "markdown",
   "metadata": {},
   "source": [
    "The integration of machine learning methods into economics has gained significant momentum in recent years. [@athey_2015] provide a comprehensive framework for using machine learning in causal inference, while [@mullainathan_2017] discuss the practical applications of machine learning in econometrics. [@varian_2014] highlights how big data and machine learning techniques can complement traditional econometric methods."
   ]
  },
  {
   "cell_type": "markdown",
   "metadata": {},
   "source": [
    "## Random Forest in Panel Data"
   ]
  },
  {
   "cell_type": "markdown",
   "metadata": {},
   "source": [
    "The application of Random Forests to panel data analysis has been explored in several recent studies. [@wager_2017] developed methods for estimating heterogeneous treatment effects using Random Forests, while [@athey_2018] introduced Generalized Random Forests for causal inference. [@chernozhukov_2024] proposed Double/Debiased Machine Learning approaches that combine traditional econometric methods with machine learning techniques."
   ]
  },
  {
   "cell_type": "markdown",
   "metadata": {},
   "source": [
    "## Interpretability in Machine Learning"
   ]
  },
  {
   "cell_type": "markdown",
   "metadata": {},
   "source": [
    "The challenge of interpretability in machine learning models has been addressed through various approaches and have lead to multiple discussions through the years. One of the seminar works that discuss this is the "
   ]
  },
  {
   "cell_type": "markdown",
   "metadata": {},
   "source": [
    "## Main Contributions"
   ]
  }
 ],
 "metadata": {
  "kernelspec": {
   "display_name": "venv_mea",
   "language": "python",
   "name": "python3"
  },
  "language_info": {
   "codemirror_mode": {
    "name": "ipython",
    "version": 3
   },
   "file_extension": ".py",
   "mimetype": "text/x-python",
   "name": "python",
   "nbconvert_exporter": "python",
   "pygments_lexer": "ipython3",
   "version": "3.13.2"
  }
 },
 "nbformat": 4,
 "nbformat_minor": 2
}
